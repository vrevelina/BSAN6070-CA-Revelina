{
 "cells": [
  {
   "cell_type": "markdown",
   "metadata": {
    "colab_type": "text",
    "id": "t7KCqbGLipX3"
   },
   "source": [
    "# Your name: Vania Revelina\n",
    "## Assignment Name: CA01 - Data Cleaning and Exploration of India Air Quality"
   ]
  },
  {
   "cell_type": "markdown",
   "metadata": {
    "colab_type": "text",
    "id": "QO1lTvh5ipX4"
   },
   "source": [
    "# Program Inititialization Section\n",
    "## Enter your import packages here"
   ]
  },
  {
   "cell_type": "code",
   "execution_count": 1,
   "metadata": {
    "colab": {},
    "colab_type": "code",
    "id": "FzDgoNoKipX6"
   },
   "outputs": [],
   "source": [
    "# import packages \n",
    "import pandas as pd\n",
    "import numpy as np\n",
    "from sklearn.impute import SimpleImputer\n",
    "import matplotlib.pyplot as plt"
   ]
  },
  {
   "cell_type": "markdown",
   "metadata": {
    "colab_type": "text",
    "id": "9CeyeUdwipYA"
   },
   "source": [
    "# Data File Reading Section\n",
    "## Write code to read in data from external sources here"
   ]
  },
  {
   "cell_type": "code",
   "execution_count": 2,
   "metadata": {
    "colab": {
     "base_uri": "https://localhost:8080/",
     "height": 197
    },
    "colab_type": "code",
    "id": "rKf1s0SEipYB",
    "outputId": "07ffe4ce-fce1-418b-8e62-27392177db2e"
   },
   "outputs": [
    {
     "data": {
      "text/html": [
       "<div>\n",
       "<style scoped>\n",
       "    .dataframe tbody tr th:only-of-type {\n",
       "        vertical-align: middle;\n",
       "    }\n",
       "\n",
       "    .dataframe tbody tr th {\n",
       "        vertical-align: top;\n",
       "    }\n",
       "\n",
       "    .dataframe thead th {\n",
       "        text-align: right;\n",
       "    }\n",
       "</style>\n",
       "<table border=\"1\" class=\"dataframe\">\n",
       "  <thead>\n",
       "    <tr style=\"text-align: right;\">\n",
       "      <th></th>\n",
       "      <th>stn_code</th>\n",
       "      <th>sampling_date</th>\n",
       "      <th>state</th>\n",
       "      <th>location</th>\n",
       "      <th>agency</th>\n",
       "      <th>type</th>\n",
       "      <th>so2</th>\n",
       "      <th>no2</th>\n",
       "      <th>rspm</th>\n",
       "      <th>spm</th>\n",
       "      <th>location_monitoring_station</th>\n",
       "      <th>pm2_5</th>\n",
       "      <th>date</th>\n",
       "    </tr>\n",
       "  </thead>\n",
       "  <tbody>\n",
       "    <tr>\n",
       "      <th>0</th>\n",
       "      <td>150</td>\n",
       "      <td>February - M021990</td>\n",
       "      <td>Andhra Pradesh</td>\n",
       "      <td>Hyderabad</td>\n",
       "      <td>NaN</td>\n",
       "      <td>Residential, Rural and other Areas</td>\n",
       "      <td>4.8</td>\n",
       "      <td>17.4</td>\n",
       "      <td>NaN</td>\n",
       "      <td>NaN</td>\n",
       "      <td>NaN</td>\n",
       "      <td>NaN</td>\n",
       "      <td>2/1/90</td>\n",
       "    </tr>\n",
       "    <tr>\n",
       "      <th>1</th>\n",
       "      <td>151</td>\n",
       "      <td>February - M021990</td>\n",
       "      <td>Andhra Pradesh</td>\n",
       "      <td>Hyderabad</td>\n",
       "      <td>NaN</td>\n",
       "      <td>Industrial Area</td>\n",
       "      <td>3.1</td>\n",
       "      <td>7.0</td>\n",
       "      <td>NaN</td>\n",
       "      <td>NaN</td>\n",
       "      <td>NaN</td>\n",
       "      <td>NaN</td>\n",
       "      <td>2/1/90</td>\n",
       "    </tr>\n",
       "    <tr>\n",
       "      <th>2</th>\n",
       "      <td>152</td>\n",
       "      <td>February - M021990</td>\n",
       "      <td>Andhra Pradesh</td>\n",
       "      <td>Hyderabad</td>\n",
       "      <td>NaN</td>\n",
       "      <td>Residential, Rural and other Areas</td>\n",
       "      <td>6.2</td>\n",
       "      <td>28.5</td>\n",
       "      <td>NaN</td>\n",
       "      <td>NaN</td>\n",
       "      <td>NaN</td>\n",
       "      <td>NaN</td>\n",
       "      <td>2/1/90</td>\n",
       "    </tr>\n",
       "    <tr>\n",
       "      <th>3</th>\n",
       "      <td>150</td>\n",
       "      <td>March - M031990</td>\n",
       "      <td>Andhra Pradesh</td>\n",
       "      <td>Hyderabad</td>\n",
       "      <td>NaN</td>\n",
       "      <td>Residential, Rural and other Areas</td>\n",
       "      <td>6.3</td>\n",
       "      <td>14.7</td>\n",
       "      <td>NaN</td>\n",
       "      <td>NaN</td>\n",
       "      <td>NaN</td>\n",
       "      <td>NaN</td>\n",
       "      <td>3/1/90</td>\n",
       "    </tr>\n",
       "    <tr>\n",
       "      <th>4</th>\n",
       "      <td>151</td>\n",
       "      <td>March - M031990</td>\n",
       "      <td>Andhra Pradesh</td>\n",
       "      <td>Hyderabad</td>\n",
       "      <td>NaN</td>\n",
       "      <td>Industrial Area</td>\n",
       "      <td>4.7</td>\n",
       "      <td>7.5</td>\n",
       "      <td>NaN</td>\n",
       "      <td>NaN</td>\n",
       "      <td>NaN</td>\n",
       "      <td>NaN</td>\n",
       "      <td>3/1/90</td>\n",
       "    </tr>\n",
       "  </tbody>\n",
       "</table>\n",
       "</div>"
      ],
      "text/plain": [
       "  stn_code       sampling_date           state   location agency  \\\n",
       "0      150  February - M021990  Andhra Pradesh  Hyderabad    NaN   \n",
       "1      151  February - M021990  Andhra Pradesh  Hyderabad    NaN   \n",
       "2      152  February - M021990  Andhra Pradesh  Hyderabad    NaN   \n",
       "3      150     March - M031990  Andhra Pradesh  Hyderabad    NaN   \n",
       "4      151     March - M031990  Andhra Pradesh  Hyderabad    NaN   \n",
       "\n",
       "                                 type  so2   no2  rspm  spm  \\\n",
       "0  Residential, Rural and other Areas  4.8  17.4   NaN  NaN   \n",
       "1                     Industrial Area  3.1   7.0   NaN  NaN   \n",
       "2  Residential, Rural and other Areas  6.2  28.5   NaN  NaN   \n",
       "3  Residential, Rural and other Areas  6.3  14.7   NaN  NaN   \n",
       "4                     Industrial Area  4.7   7.5   NaN  NaN   \n",
       "\n",
       "  location_monitoring_station  pm2_5    date  \n",
       "0                         NaN    NaN  2/1/90  \n",
       "1                         NaN    NaN  2/1/90  \n",
       "2                         NaN    NaN  2/1/90  \n",
       "3                         NaN    NaN  3/1/90  \n",
       "4                         NaN    NaN  3/1/90  "
      ]
     },
     "execution_count": 2,
     "metadata": {},
     "output_type": "execute_result"
    }
   ],
   "source": [
    "#read datasets\n",
    "data = pd.read_csv(\"data.csv\",low_memory=False)\n",
    "#look at the first 5 records\n",
    "data.head()"
   ]
  },
  {
   "cell_type": "markdown",
   "metadata": {
    "colab_type": "text",
    "id": "0tXlf2VEipYG"
   },
   "source": [
    "# Initial Data Investigation Section\n",
    "\n",
    "## Summarized details\n",
    "### Generate descriptive statistics that summarize the central tendency, dispersion, and shape of a dataset’s distribution, excluding NaN values.\n",
    "#### Steps:\n",
    "#### 1. Statistical Description of data (data.describe)\n",
    "#### 2. Display number of total rows and columns of the dataset (data.shape)\n",
    "#### 3. Display number of non-null values for each column (data.count)\n",
    "#### 4. Display number of null values for each column (sum of data.isnull)\n",
    "#### 5. Display range, column, number of non-null objects of each column, datatype and memory usage (data.info)\n",
    "#### 6. Display Top 10 and Bottom 10 records (head and tail)"
   ]
  },
  {
   "cell_type": "code",
   "execution_count": 3,
   "metadata": {
    "colab": {},
    "colab_type": "code",
    "id": "eHnxAbHTipYH",
    "outputId": "2c13624e-b950-4b43-da5a-b3876a78dc7f"
   },
   "outputs": [
    {
     "name": "stdout",
     "output_type": "stream",
     "text": [
      "Statistical description of data\n",
      "\n",
      "Total number of rows and columns\n",
      "Number of non-null values for each column\n",
      "Number of null values for each column\n",
      "Range, column, number of non-null objects of each column, datatype and memory usage\n",
      "<class 'pandas.core.frame.DataFrame'>\n",
      "RangeIndex: 435742 entries, 0 to 435741\n",
      "Data columns (total 13 columns):\n",
      "stn_code                       291665 non-null object\n",
      "sampling_date                  435739 non-null object\n",
      "state                          435742 non-null object\n",
      "location                       435739 non-null object\n",
      "agency                         286261 non-null object\n",
      "type                           430349 non-null object\n",
      "so2                            401096 non-null float64\n",
      "no2                            419509 non-null float64\n",
      "rspm                           395520 non-null float64\n",
      "spm                            198355 non-null float64\n",
      "location_monitoring_station    408251 non-null object\n",
      "pm2_5                          9314 non-null float64\n",
      "date                           435735 non-null object\n",
      "dtypes: float64(5), object(8)\n",
      "memory usage: 43.2+ MB\n",
      "Top 10 records\n",
      "Bottom 10 records\n"
     ]
    }
   ],
   "source": [
    "# Your code for this section here ...\n",
    "\n",
    "# The following 2 lines of codes activates an interactive shell so that each line of code following these would run one by one\n",
    "# The purpose of this is to make the output easier for the user/evaluator to see\n",
    "# i.e instead of running 6 lines of code in 6 different cells or running the codes with the print function where dataframe outputs do not have borders\n",
    "from IPython.core.interactiveshell import InteractiveShell\n",
    "InteractiveShell.ast_node_interactivity = \"all\"\n",
    "\n",
    "# 1. Statistical description of data\n",
    "print(\"Statistical description of data\\n\")\n",
    "data.describe()\n",
    "\n",
    "# 2. Total number of rows and columns\n",
    "print(\"Total number of rows and columns\")\n",
    "data.shape\n",
    "\n",
    "# 3. Number of non-null values for each column\n",
    "print(\"Number of non-null values for each column\")\n",
    "data.count()\n",
    "\n",
    "# 4. Number of null values for each column\n",
    "print(\"Number of null values for each column\")\n",
    "data.isnull().sum()\n",
    "\n",
    "# 5. Range, column, number of non-null objects of each column, datatype and memory usage\n",
    "print(\"Range, column, number of non-null objects of each column, datatype and memory usage\")\n",
    "data.info()\n",
    "\n",
    "# 6. Top 10 and Bottom 10 records\n",
    "print(\"Top 10 records\")\n",
    "data.head(10)\n",
    "\n",
    "print(\"Bottom 10 records\")\n",
    "data.tail(10)\n",
    "\n",
    "# The following will deactivate the first 2 lines of code in this cell\n",
    "InteractiveShell.ast_node_interactivity = \"last\""
   ]
  },
  {
   "cell_type": "markdown",
   "metadata": {
    "colab_type": "text",
    "id": "wqtDDaTBipYR"
   },
   "source": [
    "## Cleansing the dataset\n",
    "### Dropping of less valued columns:\n",
    "1. stn_code, agency, sampling_date, location_monitoring_agency do not add much value to the dataset in terms of information. Therefore, we can drop those columns.\n",
    "\n",
    "2. Dropping rows where no date is available."
   ]
  },
  {
   "cell_type": "code",
   "execution_count": 4,
   "metadata": {
    "colab": {},
    "colab_type": "code",
    "id": "89fg8maripYS"
   },
   "outputs": [],
   "source": [
    "# Cleaning up the data\n",
    "\n",
    "# dropping columns that aren't required\n",
    "# drop() method allows us to drop the columns that aren't required\n",
    "# the first argument is a list specifying the names of columns we want to drop\n",
    "# the second argument tells us if the first argument are indices of rows or headers of columns (0=row, 1=column)\n",
    "# the third argument specifies if we want the modified dataframe to be put in place of the original dataframe\n",
    "data.drop([\"stn_code\",\"agency\",\"sampling_date\",\"location_monitoring_station\"],axis=1,inplace=True)\n",
    "\n",
    "\n",
    "# dropping rows where no date is available\n",
    "\n",
    "# dropna() method allows us to drop N/A values from a specific column (specified in the \"subset\" argument)\n",
    "data.dropna(subset=[\"date\"],inplace=True)"
   ]
  },
  {
   "cell_type": "code",
   "execution_count": 5,
   "metadata": {
    "colab": {},
    "colab_type": "code",
    "id": "5E33SebCipYW",
    "outputId": "a2756870-6d5f-43a6-bbf5-ce7fae231e02"
   },
   "outputs": [
    {
     "data": {
      "text/plain": [
       "Index(['state', 'location', 'type', 'so2', 'no2', 'rspm', 'spm', 'pm2_5',\n",
       "       'date'],\n",
       "      dtype='object')"
      ]
     },
     "execution_count": 5,
     "metadata": {},
     "output_type": "execute_result"
    }
   ],
   "source": [
    "# displaying final columns (data.columns)\n",
    "# the following line will output all the column headers in dataframe \"data\"\n",
    "data.columns"
   ]
  },
  {
   "cell_type": "markdown",
   "metadata": {
    "colab_type": "text",
    "id": "_4CQQnr_ipYa"
   },
   "source": [
    "### Changing the types to uniform format:\n",
    "\n",
    "Notice that the ‘type’ column has values such as ‘Industrial Area’ and ‘Industrial Areas’ — both actually mean the same, so let’s remove such type of stuff and make it uniform. Replace the 'type' values with standard codes as follows:\n",
    "\n",
    "types = {\n",
    "    \"Residential\": \"R\",\n",
    "    \"Residential and others\": \"RO\",\n",
    "    \"Residential, Rural and other Areas\": \"RRO\",\n",
    "    \"Industrial Area\": \"I\",\n",
    "    \"Industrial Areas\": \"I\",\n",
    "    \"Industrial\": \"I\",\n",
    "    \"Sensitive Area\": \"S\",\n",
    "    \"Sensitive Areas\": \"S\",\n",
    "    \"Sensitive\": \"S\",\n",
    "    np.nan: \"RRO\"\n",
    "}\n",
    "\n",
    "data.type = data.type.replace(types)"
   ]
  },
  {
   "cell_type": "code",
   "execution_count": 6,
   "metadata": {
    "colab": {},
    "colab_type": "code",
    "id": "qPh0UWppipYb"
   },
   "outputs": [],
   "source": [
    "types = { \"Residential\": \"R\", \"Residential and others\": \"RO\", \"Residential, Rural and other Areas\": \"RRO\", \n",
    "          \"Industrial Area\": \"I\", \"Industrial Areas\": \"I\", \"Industrial\": \"I\", \"Sensitive Area\": \"S\", \n",
    "          \"Sensitive Areas\": \"S\", \"Sensitive\": \"S\", np.nan: \"RRO\" }\n",
    "data[\"type\"].replace(types,inplace=True)"
   ]
  },
  {
   "cell_type": "code",
   "execution_count": 7,
   "metadata": {
    "colab": {},
    "colab_type": "code",
    "id": "FhRf4NGZipYg",
    "outputId": "7b092a93-03b2-4b06-a5fa-7d05e7a4b996"
   },
   "outputs": [
    {
     "data": {
      "text/html": [
       "<div>\n",
       "<style scoped>\n",
       "    .dataframe tbody tr th:only-of-type {\n",
       "        vertical-align: middle;\n",
       "    }\n",
       "\n",
       "    .dataframe tbody tr th {\n",
       "        vertical-align: top;\n",
       "    }\n",
       "\n",
       "    .dataframe thead th {\n",
       "        text-align: right;\n",
       "    }\n",
       "</style>\n",
       "<table border=\"1\" class=\"dataframe\">\n",
       "  <thead>\n",
       "    <tr style=\"text-align: right;\">\n",
       "      <th></th>\n",
       "      <th>state</th>\n",
       "      <th>location</th>\n",
       "      <th>type</th>\n",
       "      <th>so2</th>\n",
       "      <th>no2</th>\n",
       "      <th>rspm</th>\n",
       "      <th>spm</th>\n",
       "      <th>pm2_5</th>\n",
       "      <th>date</th>\n",
       "    </tr>\n",
       "  </thead>\n",
       "  <tbody>\n",
       "    <tr>\n",
       "      <th>0</th>\n",
       "      <td>Andhra Pradesh</td>\n",
       "      <td>Hyderabad</td>\n",
       "      <td>RRO</td>\n",
       "      <td>4.8</td>\n",
       "      <td>17.4</td>\n",
       "      <td>NaN</td>\n",
       "      <td>NaN</td>\n",
       "      <td>NaN</td>\n",
       "      <td>2/1/90</td>\n",
       "    </tr>\n",
       "    <tr>\n",
       "      <th>1</th>\n",
       "      <td>Andhra Pradesh</td>\n",
       "      <td>Hyderabad</td>\n",
       "      <td>I</td>\n",
       "      <td>3.1</td>\n",
       "      <td>7.0</td>\n",
       "      <td>NaN</td>\n",
       "      <td>NaN</td>\n",
       "      <td>NaN</td>\n",
       "      <td>2/1/90</td>\n",
       "    </tr>\n",
       "    <tr>\n",
       "      <th>2</th>\n",
       "      <td>Andhra Pradesh</td>\n",
       "      <td>Hyderabad</td>\n",
       "      <td>RRO</td>\n",
       "      <td>6.2</td>\n",
       "      <td>28.5</td>\n",
       "      <td>NaN</td>\n",
       "      <td>NaN</td>\n",
       "      <td>NaN</td>\n",
       "      <td>2/1/90</td>\n",
       "    </tr>\n",
       "    <tr>\n",
       "      <th>3</th>\n",
       "      <td>Andhra Pradesh</td>\n",
       "      <td>Hyderabad</td>\n",
       "      <td>RRO</td>\n",
       "      <td>6.3</td>\n",
       "      <td>14.7</td>\n",
       "      <td>NaN</td>\n",
       "      <td>NaN</td>\n",
       "      <td>NaN</td>\n",
       "      <td>3/1/90</td>\n",
       "    </tr>\n",
       "    <tr>\n",
       "      <th>4</th>\n",
       "      <td>Andhra Pradesh</td>\n",
       "      <td>Hyderabad</td>\n",
       "      <td>I</td>\n",
       "      <td>4.7</td>\n",
       "      <td>7.5</td>\n",
       "      <td>NaN</td>\n",
       "      <td>NaN</td>\n",
       "      <td>NaN</td>\n",
       "      <td>3/1/90</td>\n",
       "    </tr>\n",
       "    <tr>\n",
       "      <th>5</th>\n",
       "      <td>Andhra Pradesh</td>\n",
       "      <td>Hyderabad</td>\n",
       "      <td>RRO</td>\n",
       "      <td>6.4</td>\n",
       "      <td>25.7</td>\n",
       "      <td>NaN</td>\n",
       "      <td>NaN</td>\n",
       "      <td>NaN</td>\n",
       "      <td>3/1/90</td>\n",
       "    </tr>\n",
       "    <tr>\n",
       "      <th>6</th>\n",
       "      <td>Andhra Pradesh</td>\n",
       "      <td>Hyderabad</td>\n",
       "      <td>RRO</td>\n",
       "      <td>5.4</td>\n",
       "      <td>17.1</td>\n",
       "      <td>NaN</td>\n",
       "      <td>NaN</td>\n",
       "      <td>NaN</td>\n",
       "      <td>4/1/90</td>\n",
       "    </tr>\n",
       "    <tr>\n",
       "      <th>7</th>\n",
       "      <td>Andhra Pradesh</td>\n",
       "      <td>Hyderabad</td>\n",
       "      <td>I</td>\n",
       "      <td>4.7</td>\n",
       "      <td>8.7</td>\n",
       "      <td>NaN</td>\n",
       "      <td>NaN</td>\n",
       "      <td>NaN</td>\n",
       "      <td>4/1/90</td>\n",
       "    </tr>\n",
       "    <tr>\n",
       "      <th>8</th>\n",
       "      <td>Andhra Pradesh</td>\n",
       "      <td>Hyderabad</td>\n",
       "      <td>RRO</td>\n",
       "      <td>4.2</td>\n",
       "      <td>23.0</td>\n",
       "      <td>NaN</td>\n",
       "      <td>NaN</td>\n",
       "      <td>NaN</td>\n",
       "      <td>4/1/90</td>\n",
       "    </tr>\n",
       "    <tr>\n",
       "      <th>9</th>\n",
       "      <td>Andhra Pradesh</td>\n",
       "      <td>Hyderabad</td>\n",
       "      <td>I</td>\n",
       "      <td>4.0</td>\n",
       "      <td>8.9</td>\n",
       "      <td>NaN</td>\n",
       "      <td>NaN</td>\n",
       "      <td>NaN</td>\n",
       "      <td>5/1/90</td>\n",
       "    </tr>\n",
       "  </tbody>\n",
       "</table>\n",
       "</div>"
      ],
      "text/plain": [
       "            state   location type  so2   no2  rspm  spm  pm2_5    date\n",
       "0  Andhra Pradesh  Hyderabad  RRO  4.8  17.4   NaN  NaN    NaN  2/1/90\n",
       "1  Andhra Pradesh  Hyderabad    I  3.1   7.0   NaN  NaN    NaN  2/1/90\n",
       "2  Andhra Pradesh  Hyderabad  RRO  6.2  28.5   NaN  NaN    NaN  2/1/90\n",
       "3  Andhra Pradesh  Hyderabad  RRO  6.3  14.7   NaN  NaN    NaN  3/1/90\n",
       "4  Andhra Pradesh  Hyderabad    I  4.7   7.5   NaN  NaN    NaN  3/1/90\n",
       "5  Andhra Pradesh  Hyderabad  RRO  6.4  25.7   NaN  NaN    NaN  3/1/90\n",
       "6  Andhra Pradesh  Hyderabad  RRO  5.4  17.1   NaN  NaN    NaN  4/1/90\n",
       "7  Andhra Pradesh  Hyderabad    I  4.7   8.7   NaN  NaN    NaN  4/1/90\n",
       "8  Andhra Pradesh  Hyderabad  RRO  4.2  23.0   NaN  NaN    NaN  4/1/90\n",
       "9  Andhra Pradesh  Hyderabad    I  4.0   8.9   NaN  NaN    NaN  5/1/90"
      ]
     },
     "execution_count": 7,
     "metadata": {},
     "output_type": "execute_result"
    }
   ],
   "source": [
    "# Display top 10 records after codification of 'types'\n",
    "data.head(10)"
   ]
  },
  {
   "cell_type": "markdown",
   "metadata": {
    "colab_type": "text",
    "id": "F2CcWhc_ipYl"
   },
   "source": [
    "### Creating a year column\n",
    "To view the trend over a period of time, we need year values for each row and also when you see in most of the values in date column only has ‘year’ value. So, let’s create a new column holding year values. Convert the column to 'datetime' type and extract the year to populate the new column. Display Top 5 records after the conversion."
   ]
  },
  {
   "cell_type": "code",
   "execution_count": 8,
   "metadata": {
    "colab": {},
    "colab_type": "code",
    "id": "UO0abBG0ipYm"
   },
   "outputs": [
    {
     "name": "stdout",
     "output_type": "stream",
     "text": [
      "Top 5 records:\n",
      "             state   location type  so2   no2  rspm  spm  pm2_5       date\n",
      "0  Andhra Pradesh  Hyderabad  RRO  4.8  17.4   NaN  NaN    NaN 1990-02-01\n",
      "1  Andhra Pradesh  Hyderabad    I  3.1   7.0   NaN  NaN    NaN 1990-02-01\n",
      "2  Andhra Pradesh  Hyderabad  RRO  6.2  28.5   NaN  NaN    NaN 1990-02-01\n",
      "3  Andhra Pradesh  Hyderabad  RRO  6.3  14.7   NaN  NaN    NaN 1990-03-01\n",
      "4  Andhra Pradesh  Hyderabad    I  4.7   7.5   NaN  NaN    NaN 1990-03-01\n"
     ]
    }
   ],
   "source": [
    "# pd.to_datetime() method allows us to convert the \"date\" column into datetime format\n",
    "# we are telling the method to infer the datetime format since the dates in our dataframe is not zero-padded \n",
    "# i.e. 2/3/1990 instead of 02/03/1990 (this format is unavailable to be specified in the method)\n",
    "# after converting the format, I reassign the values into the \"date\" column in the original dataframe\n",
    "data[\"date\"]=pd.to_datetime(data[\"date\"],infer_datetime_format=True)\n",
    "\n",
    "# NOTE TO EVALUATOR: if you find yourself needing to re-run this cell, I recommend running the lines below separately because the line above takes a long time to run\n",
    "# The following line of code prints the top 5 records in the dataset\n",
    "print(\"Top 5 records:\\n\",data.head())\n",
    "\n",
    "# apply() method allows us to evaluate each value in the \"date\" column (these values are represented as \"x\")\n",
    "# and apply a function for each of these values, in this case x.year will get the year from the datetime value \"x\"\n",
    "# after getting the year for each value in the \"date\" column, I assign these values into a new column called \"year\"\n",
    "data[\"year\"]= data[\"date\"].apply(lambda x: x.year)"
   ]
  },
  {
   "cell_type": "markdown",
   "metadata": {
    "colab_type": "text",
    "id": "yoKJWIJmipYt"
   },
   "source": [
    "### Handling Missing Values\n",
    "\n",
    "The column such as SO2, NO2, rspm, spm, pm2_5 are the ones which contribute much to our analysis. So, we need to remove null from those columns to avoid inaccuracy in the prediction.\n",
    "We use the Imputer from sklearn.preprocessing to fill the missing values in every column with the mean."
   ]
  },
  {
   "cell_type": "code",
   "execution_count": 9,
   "metadata": {
    "colab": {},
    "colab_type": "code",
    "id": "uAAWNg_3ipYu",
    "outputId": "43a5a65a-416b-4e0e-f968-4ce2e38f99ff"
   },
   "outputs": [
    {
     "data": {
      "text/plain": [
       "state       0\n",
       "location    0\n",
       "type        0\n",
       "so2         0\n",
       "no2         0\n",
       "rspm        0\n",
       "spm         0\n",
       "pm2_5       0\n",
       "date        0\n",
       "year        0\n",
       "dtype: int64"
      ]
     },
     "execution_count": 9,
     "metadata": {},
     "output_type": "execute_result"
    }
   ],
   "source": [
    "# define columns of importance, which shall be used reguarly (COLS = ....)\n",
    "# invoke SimpleImputer to fill missing values using 'mean' as the replacement strategy\n",
    "# Display data.info after the transformation\n",
    "# Display that there are no more missing values in the dataset\n",
    "\n",
    "# assigning a list of columns of importance into variable COLS\n",
    "COLS = [\"so2\",\"no2\",\"rspm\",\"spm\",\"pm2_5\"]\n",
    "\n",
    "# instantiate a simple imputer into variable \"imp\"\n",
    "# the first argument specify what form the missing values we are trying to replace\n",
    "# the second argument specify what strategy we will use to replace the missing values with\n",
    "# i.e. in this case, we are replacing the missing values with the mean of the non-null values \n",
    "imp = SimpleImputer(missing_values=np.nan,strategy=\"mean\")\n",
    "\n",
    "# imp.fit_transform(data[COLS]) fits the data with columns of importance into the imputer,\n",
    "# and transforms it such that the missing values are now filled with the mean\n",
    "# the output of the fit_transform method is a numpy array, so we need to convert this back into a dataframe using pd.DataFrame method\n",
    "# after this is done, I reassign these values back into the original dataframe\n",
    "data[COLS]=pd.DataFrame(imp.fit_transform(data[COLS]),index=data.index)\n",
    "\n",
    "# the following line displays how many missing values there are in each column\n",
    "# we can see that there are no more missing values\n",
    "data.isnull().sum()"
   ]
  },
  {
   "cell_type": "markdown",
   "metadata": {
    "colab_type": "text",
    "id": "jZvPV20vipYx"
   },
   "source": [
    "## Statewise Grouping of so2, no2, rspm, spm values\n",
    "\n",
    "Calculate median values of so2, no2, rspm, spm for each state and display in (a) as table (b) bar chart, with values sorted in ascending order. Separate section for each of the component. Use matplotlib()."
   ]
  },
  {
   "cell_type": "markdown",
   "metadata": {
    "colab_type": "text",
    "id": "nJgN8eTcipYy"
   },
   "source": [
    "### so2 status"
   ]
  },
  {
   "cell_type": "code",
   "execution_count": 10,
   "metadata": {
    "colab": {},
    "colab_type": "code",
    "id": "LdOTScf2ipYz",
    "outputId": "6253692d-b22f-4bb0-9680-faa3bf6afe28"
   },
   "outputs": [
    {
     "name": "stdout",
     "output_type": "stream",
     "text": [
      "state\n",
      "Nagaland                 2.000000\n",
      "Mizoram                  2.000000\n",
      "Meghalaya                2.000000\n",
      "Arunachal Pradesh        2.500000\n",
      "Himachal Pradesh         3.000000\n",
      "Kerala                   4.200000\n",
      "Telangana                5.000000\n",
      "Odisha                   5.000000\n",
      "Jammu & Kashmir          5.000000\n",
      "Andhra Pradesh           5.000000\n",
      "Goa                      6.000000\n",
      "Rajasthan                6.300000\n",
      "Delhi                    6.300000\n",
      "Assam                    6.500000\n",
      "Puducherry               7.266667\n",
      "Daman & Diu              7.600000\n",
      "Chandigarh               7.950000\n",
      "West Bengal              8.000000\n",
      "Dadra & Nagar Haveli     8.400000\n",
      "Karnataka               10.000000\n",
      "Uttar Pradesh           10.000000\n",
      "Tamil Nadu              10.000000\n",
      "Punjab                  10.300000\n",
      "Manipur                 10.829428\n",
      "Bihar                   10.829428\n",
      "Haryana                 10.829428\n",
      "Madhya Pradesh          10.829428\n",
      "Chhattisgarh            12.500000\n",
      "Maharashtra             13.000000\n",
      "Gujarat                 14.200000\n",
      "Jharkhand               18.700000\n",
      "Sikkim                  19.800000\n",
      "Uttarakhand             21.000000\n",
      "Uttaranchal             25.100000\n",
      "Name: so2, dtype: float64\n"
     ]
    },
    {
     "data": {
      "image/png": "[encoded data removed]",
      "text/plain": [
       "<Figure size 432x288 with 1 Axes>"
      ]
     },
     "metadata": {
      "needs_background": "light"
     },
     "output_type": "display_data"
    }
   ],
   "source": [
    "# groupby() method allows us to group our dataframe by unique values in the \"state\" column\n",
    "# then we take only the \"so2\" column from our groupby, \n",
    "# and calculate the median value of \"so2\" for each state\n",
    "# after this is done, we sort our median of \"so2\" values in ascending order\n",
    "# then we assign this into a variable called \"so2_med\"\n",
    "so2_med = data.groupby(\"state\")[\"so2\"].median().sort_values(ascending=True)\n",
    "\n",
    "# printing so2_med gives us a table of median values of so2 for each state\n",
    "print(so2_med)\n",
    "\n",
    "# plt.bar() method creates a bar chart for the median so2 values for each state\n",
    "plt.bar(so2_med.index,so2_med)\n",
    "# the following code rotates the labels in the x-axis by 90 degrees \n",
    "plt.xticks(rotation=90)\n",
    "# we need plt.show() for the bar chart to show properly\n",
    "plt.show()\n",
    "\n",
    "# NOTE: analysis are provided in a markdown cell below the bar chart output"
   ]
  },
  {
   "cell_type": "markdown",
   "metadata": {
    "colab_type": "text",
    "id": "D44amuOxipY4"
   },
   "source": [
    "The top 5 states with the highest sulphur dioxide concentration are \n",
    "1. Sikkim\n",
    "2. Uttaranchal\n",
    "3. Uttarakhand\n",
    "4. Jharkhand\n",
    "5. Gujarat\n",
    "\n",
    "From the bar chart, we can see that the difference in sulphur dioxide concentration for the top 4 states are significant. Each of them differs by roughly 4 μg/m3 from the next rank. Sikkim's sulphur dioxide concentration level is more than twice of the concentration in Gujarat, even though they are only 3 states apart in the ranking. It seems that we have to focus on the top 3 states first when trying to address high sulphur dioxide concentration."
   ]
  },
  {
   "cell_type": "markdown",
   "metadata": {
    "colab_type": "text",
    "id": "VUmR8uxVipY5"
   },
   "source": [
    "### no2 status"
   ]
  },
  {
   "cell_type": "code",
   "execution_count": 11,
   "metadata": {
    "colab": {},
    "colab_type": "code",
    "id": "aeWpECZ4ipY6",
    "outputId": "0e64f25f-c5ad-4fa1-f29b-4d83de05fd77",
    "scrolled": true
   },
   "outputs": [
    {
     "name": "stdout",
     "output_type": "stream",
     "text": [
      "state\n",
      "Arunachal Pradesh        5.000000\n",
      "Mizoram                  5.000000\n",
      "Nagaland                 7.000000\n",
      "Meghalaya               10.000000\n",
      "Goa                     11.600000\n",
      "Puducherry              13.000000\n",
      "Jammu & Kashmir         13.000000\n",
      "Himachal Pradesh        13.900000\n",
      "Kerala                  14.000000\n",
      "Assam                   14.000000\n",
      "Odisha                  16.000000\n",
      "Daman & Diu             17.600000\n",
      "Chandigarh              18.000000\n",
      "Dadra & Nagar Haveli    18.000000\n",
      "Madhya Pradesh          19.200000\n",
      "Manipur                 19.800000\n",
      "Andhra Pradesh          20.000000\n",
      "Tamil Nadu              21.000000\n",
      "Karnataka               21.200000\n",
      "Chhattisgarh            21.500000\n",
      "Telangana               22.000000\n",
      "Haryana                 22.750000\n",
      "Gujarat                 23.000000\n",
      "Uttarakhand             25.809659\n",
      "Rajasthan               26.000000\n",
      "Sikkim                  26.800000\n",
      "Uttar Pradesh           27.000000\n",
      "Uttaranchal             27.500000\n",
      "Punjab                  28.300000\n",
      "Maharashtra             29.000000\n",
      "Bihar                   32.000000\n",
      "Jharkhand               42.000000\n",
      "Delhi                   45.000000\n",
      "West Bengal             53.700000\n",
      "Name: no2, dtype: float64\n"
     ]
    },
    {
     "data": {
      "image/png": "[encoded data removed]",
      "text/plain": [
       "<Figure size 432x288 with 1 Axes>"
      ]
     },
     "metadata": {
      "needs_background": "light"
     },
     "output_type": "display_data"
    }
   ],
   "source": [
    "no2_med = data.groupby(\"state\")[\"no2\"].median().sort_values(ascending=True)\n",
    "print(no2_med)\n",
    "plt.bar(no2_med.index,no2_med)\n",
    "plt.xticks(rotation=90)\n",
    "plt.show()"
   ]
  },
  {
   "cell_type": "markdown",
   "metadata": {
    "colab_type": "text",
    "id": "ASIsRcFPipY-"
   },
   "source": [
    "The top 5 states with the highest nitrogen dioxide concentration are \n",
    "1. West Bengal\n",
    "2. Delhi\n",
    "3. Jharkhand\n",
    "4. Bihar\n",
    "5. Maharashtra\n",
    "\n",
    "Similar with the ranking of sulphur dioxide concentration, the top 4 states have significantly different nitrogen dioxide concentration (with the exception of Delhi and Jharkand). The difference between West Bengal and Delhi is roughly around 8 μg/m3. Between Jharkand and Bihar is 10 μg/m3. \n",
    "\n",
    "Another matter worth noting is that the state with the highest sulphur dioxide concentration has the lowest nitrogen dioxide concentration. On the other hand, Jharkand is in the top 4 in terms of sulphur dioxide and nitrogen dioxide concentration. Maharashtra follows closely by being in the top 6 of both rankings. High concentration of sulphur dioxide and nitrogen dioxide in the air increases the chance of acid rain. To prevent this, addressing the pollution problem would have to start with Jharkand and Maharashtra."
   ]
  },
  {
   "cell_type": "markdown",
   "metadata": {
    "colab_type": "text",
    "id": "NUNDiW9VipY_"
   },
   "source": [
    "### rspm status"
   ]
  },
  {
   "cell_type": "code",
   "execution_count": 12,
   "metadata": {
    "colab": {},
    "colab_type": "code",
    "id": "yyNOCvqYipZA",
    "outputId": "8571792f-4930-48e5-fd08-ef6932e377b2"
   },
   "outputs": [
    {
     "name": "stdout",
     "output_type": "stream",
     "text": [
      "state\n",
      "Sikkim                   32.000000\n",
      "Mizoram                  40.000000\n",
      "Puducherry               46.000000\n",
      "Kerala                   49.000000\n",
      "Goa                      56.000000\n",
      "Meghalaya                57.000000\n",
      "Tamil Nadu               59.000000\n",
      "Manipur                  61.000000\n",
      "Karnataka                63.000000\n",
      "Arunachal Pradesh        74.500000\n",
      "Andhra Pradesh           76.000000\n",
      "Assam                    77.000000\n",
      "Nagaland                 78.000000\n",
      "Telangana                80.000000\n",
      "Odisha                   81.000000\n",
      "Himachal Pradesh         90.000000\n",
      "Chandigarh               90.000000\n",
      "Dadra & Nagar Haveli     91.000000\n",
      "Gujarat                  95.000000\n",
      "West Bengal              96.000000\n",
      "Maharashtra              96.000000\n",
      "Chhattisgarh            108.833091\n",
      "Madhya Pradesh          108.833091\n",
      "Bihar                   108.833091\n",
      "Daman & Diu             108.833091\n",
      "Uttaranchal             112.000000\n",
      "Rajasthan               112.000000\n",
      "Jammu & Kashmir         116.000000\n",
      "Uttarakhand             135.000000\n",
      "Delhi                   136.000000\n",
      "Haryana                 137.500000\n",
      "Punjab                  147.000000\n",
      "Uttar Pradesh           160.000000\n",
      "Jharkhand               165.000000\n",
      "Name: rspm, dtype: float64\n"
     ]
    },
    {
     "data": {
      "image/png": "[encoded data removed]",
      "text/plain": [
       "<Figure size 432x288 with 1 Axes>"
      ]
     },
     "metadata": {
      "needs_background": "light"
     },
     "output_type": "display_data"
    }
   ],
   "source": [
    "rspm_med = data.groupby(\"state\")[\"rspm\"].median().sort_values(ascending=True)\n",
    "print(rspm_med)\n",
    "plt.bar(rspm_med.index,rspm_med)\n",
    "plt.xticks(rotation=90)\n",
    "plt.show()"
   ]
  },
  {
   "cell_type": "markdown",
   "metadata": {},
   "source": [
    "Unlike the case with so2 and no2, it seems that there are relatively fair differences between the top ranks. However, from our bar chart, it seems that there is a significant change every few ranks. For example, there are fair differences between the top ranks until Uttarakhand. At which point, there is a jump in rspm values between Uttarakhand and Jammu & Kashmir. Similar with Chhattisgarh and Maharashtra, Himachal Pradesh and Odisha, Arunachal Pradesh and Karmataka. This might be useful when we want to do classification for rspm concentrations (high, mid-high, mid, mid-low, low)."
   ]
  },
  {
   "cell_type": "markdown",
   "metadata": {
    "colab_type": "text",
    "id": "kmCTCWXbipZD"
   },
   "source": [
    "### spm status"
   ]
  },
  {
   "cell_type": "code",
   "execution_count": 13,
   "metadata": {
    "colab": {},
    "colab_type": "code",
    "id": "hyyMSBQuipZE",
    "outputId": "e565b409-8877-491b-8cb8-19ab8db3b2d8"
   },
   "outputs": [
    {
     "name": "stdout",
     "output_type": "stream",
     "text": [
      "state\n",
      "Sikkim                   75.00000\n",
      "Manipur                 120.50000\n",
      "Puducherry              191.00000\n",
      "Goa                     199.00000\n",
      "Daman & Diu             200.50000\n",
      "Andhra Pradesh          220.78348\n",
      "Meghalaya               220.78348\n",
      "Mizoram                 220.78348\n",
      "Nagaland                220.78348\n",
      "Odisha                  220.78348\n",
      "Punjab                  220.78348\n",
      "Tamil Nadu              220.78348\n",
      "Telangana               220.78348\n",
      "Uttar Pradesh           220.78348\n",
      "Uttarakhand             220.78348\n",
      "Rajasthan               220.78348\n",
      "Maharashtra             220.78348\n",
      "Kerala                  220.78348\n",
      "Karnataka               220.78348\n",
      "Jharkhand               220.78348\n",
      "Jammu & Kashmir         220.78348\n",
      "Himachal Pradesh        220.78348\n",
      "Haryana                 220.78348\n",
      "Gujarat                 220.78348\n",
      "Dadra & Nagar Haveli    220.78348\n",
      "Chhattisgarh            220.78348\n",
      "Chandigarh              220.78348\n",
      "Bihar                   220.78348\n",
      "Assam                   220.78348\n",
      "Arunachal Pradesh       220.78348\n",
      "Madhya Pradesh          220.78348\n",
      "West Bengal             220.78348\n",
      "Delhi                   253.00000\n",
      "Uttaranchal             268.00000\n",
      "Name: spm, dtype: float64\n"
     ]
    },
    {
     "data": {
      "image/png": "[encoded data removed]",
      "text/plain": [
       "<Figure size 432x288 with 1 Axes>"
      ]
     },
     "metadata": {
      "needs_background": "light"
     },
     "output_type": "display_data"
    }
   ],
   "source": [
    "spm_med = data.groupby(\"state\")[\"spm\"].median().sort_values(ascending=True)\n",
    "print(spm_med)\n",
    "plt.bar(spm_med.index,spm_med)\n",
    "plt.xticks(rotation=90)\n",
    "plt.show()"
   ]
  },
  {
   "cell_type": "markdown",
   "metadata": {},
   "source": [
    "From our bar chart, we can see that it is almost shaped like a box, which means that most of the states have the same median value for spm. Recall that earlier, we have replaced N/A values in the spm column with the median of the existing spm values. So it is most likely that there are too many states with no spm values such that they are all replaced by the median. This makes our spm data less accurate compared to other columns, because if this is the case, the median value were only based on too little percentage of the whole data."
   ]
  },
  {
   "cell_type": "markdown",
   "metadata": {
    "colab_type": "text",
    "id": "MNpC7UxSipZH"
   },
   "source": [
    "### What is the yearly trend in a particular state, say ‘Andhra Pradesh’?\n",
    "\n",
    "Create a new dataframe containing the NO2, SO2, rspm, and spm data regarding state ‘Andhra Pradesh’ only and group it by ‘year’. Display top 5 records after."
   ]
  },
  {
   "cell_type": "code",
   "execution_count": 14,
   "metadata": {
    "colab": {},
    "colab_type": "code",
    "id": "iV4VIbfBipZJ",
    "outputId": "84818a4d-56ac-436c-9236-a0acb0ced0ac"
   },
   "outputs": [
    {
     "data": {
      "text/html": [
       "<div>\n",
       "<style scoped>\n",
       "    .dataframe tbody tr th:only-of-type {\n",
       "        vertical-align: middle;\n",
       "    }\n",
       "\n",
       "    .dataframe tbody tr th {\n",
       "        vertical-align: top;\n",
       "    }\n",
       "\n",
       "    .dataframe thead th {\n",
       "        text-align: right;\n",
       "    }\n",
       "</style>\n",
       "<table border=\"1\" class=\"dataframe\">\n",
       "  <thead>\n",
       "    <tr style=\"text-align: right;\">\n",
       "      <th></th>\n",
       "      <th>so2</th>\n",
       "      <th>no2</th>\n",
       "      <th>rspm</th>\n",
       "      <th>spm</th>\n",
       "    </tr>\n",
       "    <tr>\n",
       "      <th>year</th>\n",
       "      <th></th>\n",
       "      <th></th>\n",
       "      <th></th>\n",
       "      <th></th>\n",
       "    </tr>\n",
       "  </thead>\n",
       "  <tbody>\n",
       "    <tr>\n",
       "      <th>1990</th>\n",
       "      <td>5.60</td>\n",
       "      <td>13.60</td>\n",
       "      <td>108.833091</td>\n",
       "      <td>179.00000</td>\n",
       "    </tr>\n",
       "    <tr>\n",
       "      <th>1991</th>\n",
       "      <td>8.25</td>\n",
       "      <td>12.80</td>\n",
       "      <td>108.833091</td>\n",
       "      <td>141.50000</td>\n",
       "    </tr>\n",
       "    <tr>\n",
       "      <th>1992</th>\n",
       "      <td>12.40</td>\n",
       "      <td>27.60</td>\n",
       "      <td>108.833091</td>\n",
       "      <td>192.00000</td>\n",
       "    </tr>\n",
       "    <tr>\n",
       "      <th>1993</th>\n",
       "      <td>6.00</td>\n",
       "      <td>11.40</td>\n",
       "      <td>108.833091</td>\n",
       "      <td>220.78348</td>\n",
       "    </tr>\n",
       "    <tr>\n",
       "      <th>1994</th>\n",
       "      <td>8.70</td>\n",
       "      <td>14.20</td>\n",
       "      <td>108.833091</td>\n",
       "      <td>220.78348</td>\n",
       "    </tr>\n",
       "    <tr>\n",
       "      <th>1995</th>\n",
       "      <td>14.10</td>\n",
       "      <td>26.30</td>\n",
       "      <td>108.833091</td>\n",
       "      <td>147.00000</td>\n",
       "    </tr>\n",
       "    <tr>\n",
       "      <th>1996</th>\n",
       "      <td>18.85</td>\n",
       "      <td>30.15</td>\n",
       "      <td>108.833091</td>\n",
       "      <td>181.50000</td>\n",
       "    </tr>\n",
       "    <tr>\n",
       "      <th>1997</th>\n",
       "      <td>16.40</td>\n",
       "      <td>28.40</td>\n",
       "      <td>108.833091</td>\n",
       "      <td>145.00000</td>\n",
       "    </tr>\n",
       "    <tr>\n",
       "      <th>1998</th>\n",
       "      <td>10.15</td>\n",
       "      <td>20.25</td>\n",
       "      <td>108.833091</td>\n",
       "      <td>152.00000</td>\n",
       "    </tr>\n",
       "    <tr>\n",
       "      <th>1999</th>\n",
       "      <td>13.35</td>\n",
       "      <td>17.05</td>\n",
       "      <td>108.833091</td>\n",
       "      <td>152.50000</td>\n",
       "    </tr>\n",
       "    <tr>\n",
       "      <th>2000</th>\n",
       "      <td>12.15</td>\n",
       "      <td>20.45</td>\n",
       "      <td>108.833091</td>\n",
       "      <td>128.50000</td>\n",
       "    </tr>\n",
       "    <tr>\n",
       "      <th>2001</th>\n",
       "      <td>12.50</td>\n",
       "      <td>24.00</td>\n",
       "      <td>108.833091</td>\n",
       "      <td>132.00000</td>\n",
       "    </tr>\n",
       "    <tr>\n",
       "      <th>2002</th>\n",
       "      <td>6.70</td>\n",
       "      <td>23.00</td>\n",
       "      <td>108.833091</td>\n",
       "      <td>86.00000</td>\n",
       "    </tr>\n",
       "    <tr>\n",
       "      <th>2004</th>\n",
       "      <td>8.00</td>\n",
       "      <td>32.00</td>\n",
       "      <td>85.150000</td>\n",
       "      <td>145.00000</td>\n",
       "    </tr>\n",
       "    <tr>\n",
       "      <th>2005</th>\n",
       "      <td>5.10</td>\n",
       "      <td>28.55</td>\n",
       "      <td>77.000000</td>\n",
       "      <td>208.00000</td>\n",
       "    </tr>\n",
       "    <tr>\n",
       "      <th>2006</th>\n",
       "      <td>5.80</td>\n",
       "      <td>30.30</td>\n",
       "      <td>88.000000</td>\n",
       "      <td>191.00000</td>\n",
       "    </tr>\n",
       "    <tr>\n",
       "      <th>2007</th>\n",
       "      <td>5.70</td>\n",
       "      <td>29.85</td>\n",
       "      <td>85.000000</td>\n",
       "      <td>184.00000</td>\n",
       "    </tr>\n",
       "    <tr>\n",
       "      <th>2008</th>\n",
       "      <td>5.20</td>\n",
       "      <td>26.40</td>\n",
       "      <td>81.500000</td>\n",
       "      <td>189.00000</td>\n",
       "    </tr>\n",
       "    <tr>\n",
       "      <th>2009</th>\n",
       "      <td>4.90</td>\n",
       "      <td>21.30</td>\n",
       "      <td>80.000000</td>\n",
       "      <td>195.00000</td>\n",
       "    </tr>\n",
       "    <tr>\n",
       "      <th>2010</th>\n",
       "      <td>4.00</td>\n",
       "      <td>13.00</td>\n",
       "      <td>67.000000</td>\n",
       "      <td>220.78348</td>\n",
       "    </tr>\n",
       "    <tr>\n",
       "      <th>2011</th>\n",
       "      <td>4.30</td>\n",
       "      <td>23.00</td>\n",
       "      <td>74.000000</td>\n",
       "      <td>220.78348</td>\n",
       "    </tr>\n",
       "    <tr>\n",
       "      <th>2012</th>\n",
       "      <td>5.00</td>\n",
       "      <td>13.00</td>\n",
       "      <td>73.000000</td>\n",
       "      <td>220.78348</td>\n",
       "    </tr>\n",
       "    <tr>\n",
       "      <th>2013</th>\n",
       "      <td>5.00</td>\n",
       "      <td>16.00</td>\n",
       "      <td>67.000000</td>\n",
       "      <td>220.78348</td>\n",
       "    </tr>\n",
       "    <tr>\n",
       "      <th>2014</th>\n",
       "      <td>6.00</td>\n",
       "      <td>18.00</td>\n",
       "      <td>70.000000</td>\n",
       "      <td>220.78348</td>\n",
       "    </tr>\n",
       "    <tr>\n",
       "      <th>2015</th>\n",
       "      <td>6.00</td>\n",
       "      <td>19.00</td>\n",
       "      <td>69.000000</td>\n",
       "      <td>220.78348</td>\n",
       "    </tr>\n",
       "  </tbody>\n",
       "</table>\n",
       "</div>"
      ],
      "text/plain": [
       "        so2    no2        rspm        spm\n",
       "year                                     \n",
       "1990   5.60  13.60  108.833091  179.00000\n",
       "1991   8.25  12.80  108.833091  141.50000\n",
       "1992  12.40  27.60  108.833091  192.00000\n",
       "1993   6.00  11.40  108.833091  220.78348\n",
       "1994   8.70  14.20  108.833091  220.78348\n",
       "1995  14.10  26.30  108.833091  147.00000\n",
       "1996  18.85  30.15  108.833091  181.50000\n",
       "1997  16.40  28.40  108.833091  145.00000\n",
       "1998  10.15  20.25  108.833091  152.00000\n",
       "1999  13.35  17.05  108.833091  152.50000\n",
       "2000  12.15  20.45  108.833091  128.50000\n",
       "2001  12.50  24.00  108.833091  132.00000\n",
       "2002   6.70  23.00  108.833091   86.00000\n",
       "2004   8.00  32.00   85.150000  145.00000\n",
       "2005   5.10  28.55   77.000000  208.00000\n",
       "2006   5.80  30.30   88.000000  191.00000\n",
       "2007   5.70  29.85   85.000000  184.00000\n",
       "2008   5.20  26.40   81.500000  189.00000\n",
       "2009   4.90  21.30   80.000000  195.00000\n",
       "2010   4.00  13.00   67.000000  220.78348\n",
       "2011   4.30  23.00   74.000000  220.78348\n",
       "2012   5.00  13.00   73.000000  220.78348\n",
       "2013   5.00  16.00   67.000000  220.78348\n",
       "2014   6.00  18.00   70.000000  220.78348\n",
       "2015   6.00  19.00   69.000000  220.78348"
      ]
     },
     "execution_count": 14,
     "metadata": {},
     "output_type": "execute_result"
    }
   ],
   "source": [
    "# we first, subset the dataframe so that it would only include data for Andhra Pradesh\n",
    "# next, we groupby our sliced dataframe by year\n",
    "# then we select columns of importance, which are so2, no2, rspm and spm\n",
    "# finally, we calculate the median for each year by calling the method, median()\n",
    "newdf = data[data[\"state\"]==\"Andhra Pradesh\"].groupby(\"year\")[[\"so2\",\"no2\",\"rspm\",\"spm\"]].median()\n",
    "\n",
    "# display the dataframe\n",
    "newdf"
   ]
  },
  {
   "cell_type": "code",
   "execution_count": 15,
   "metadata": {
    "colab": {},
    "colab_type": "code",
    "id": "FXpy1tpGipZM",
    "outputId": "a426ce95-f5be-4fc6-fe75-2b6d388a8de5"
   },
   "outputs": [
    {
     "data": {
      "image/png": "[encoded data removed]",
      "text/plain": [
       "<Figure size 432x288 with 2 Axes>"
      ]
     },
     "metadata": {
      "needs_background": "light"
     },
     "output_type": "display_data"
    }
   ],
   "source": [
    "# Display yearly trend graph (year vs. value) in pairs: (a) so2 and no2 (b) rspm and spm. \n",
    "# So, you will display TWO graphs altogether.\n",
    "\n",
    "# the method subplot(2,1,1) creates a 2x1 subplot and activates the first (top) subplot\n",
    "plt.subplot(2,1,1)\n",
    "plt.plot(newdf[[\"so2\"]],label=\"so2\",c=\"coral\")\n",
    "plt.plot(newdf[[\"no2\"]],label=\"no2\",c=\"darkblue\")\n",
    "# create legend for easy readability\n",
    "plt.legend()\n",
    "\n",
    "# the method subplot(2,1,2) activates the second (bottom) subplot\n",
    "plt.subplot(2,1,2)\n",
    "plt.plot(newdf[[\"rspm\"]],label=\"rspm\",c=\"red\")\n",
    "plt.plot(newdf[[\"spm\"]],label=\"spm\",c=\"green\")\n",
    "plt.legend()\n",
    "plt.show()"
   ]
  },
  {
   "cell_type": "markdown",
   "metadata": {
    "colab_type": "text",
    "id": "ZAD0ZUR-ipZQ"
   },
   "source": [
    "Do you find anything alarming? Explain what you can conclude from this Exploratory Data Analysis for the State of Andhra Pradesh. Enter your answer here .....\n",
    "\n"
   ]
  },
  {
   "cell_type": "markdown",
   "metadata": {},
   "source": [
    "From the plots, it seems that so2 and rspm values are low compared to the previous years. However, so2 values seems to be rising slightly. \n",
    "\n",
    "We can also see that no2 values seems to be on the rise and might become alarming in the future.\n",
    "\n",
    "As for spm values, we have to note that the stable spm values from 2010-2015 might have been caused by N/A values (that were replaced by the median). So the spm values from 2010-2015 might not be accurate for us to base our conclusions on. But data from prior to 2010 indicates that spm values are rising in Andhra Pradesh. \n",
    "\n",
    "Therefore, we have to try to collect the most recent data for spm values in Andhra Pradesh if possible. Although it seems that at this point, attempts to decrease no2 and spm values might be the most helpful action to take to decrease pollution rate in Andhra Pradesh. "
   ]
  },
  {
   "cell_type": "code",
   "execution_count": null,
   "metadata": {},
   "outputs": [],
   "source": []
  }
 ],
 "metadata": {
  "colab": {
   "collapsed_sections": [],
   "name": "India Air Quality-CA01-Empty-Template.ipynb",
   "provenance": []
  },
  "kernelspec": {
   "display_name": "Python 3",
   "language": "python",
   "name": "python3"
  },
  "language_info": {
   "codemirror_mode": {
    "name": "ipython",
    "version": 3
   },
   "file_extension": ".py",
   "mimetype": "text/x-python",
   "name": "python",
   "nbconvert_exporter": "python",
   "pygments_lexer": "ipython3",
   "version": "3.7.3"
  }
 },
 "nbformat": 4,
 "nbformat_minor": 1
}
