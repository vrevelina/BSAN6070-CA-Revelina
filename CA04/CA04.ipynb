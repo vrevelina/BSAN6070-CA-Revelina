{
  "nbformat": 4,
  "nbformat_minor": 0,
  "metadata": {
    "kernelspec": {
      "display_name": "Python 3",
      "language": "python",
      "name": "python3"
    },
    "language_info": {
      "codemirror_mode": {
        "name": "ipython",
        "version": 3
      },
      "file_extension": ".py",
      "mimetype": "text/x-python",
      "name": "python",
      "nbconvert_exporter": "python",
      "pygments_lexer": "ipython3",
      "version": "3.7.3"
    },
    "colab": {
      "name": "CA04.ipynb",
      "provenance": [],
      "collapsed_sections": [],
      "toc_visible": true
    }
  },
  "cells": [
    {
      "cell_type": "markdown",
      "metadata": {
        "id": "iDsH8KfZiASL",
        "colab_type": "text"
      },
      "source": [
        "#**1. Data Source and Contents**"
      ]
    },
    {
      "cell_type": "code",
      "metadata": {
        "id": "xeSGB6QUfhEy",
        "colab_type": "code",
        "outputId": "be8adc39-5519-4043-d858-8d8825f71934",
        "colab": {
          "base_uri": "https://localhost:8080/",
          "height": 68
        }
      },
      "source": [
        "# install xgboost package\n",
        "pip install xgboost"
      ],
      "execution_count": 1,
      "outputs": [
        {
          "output_type": "stream",
          "text": [
            "Requirement already satisfied: xgboost in /usr/local/lib/python3.6/dist-packages (0.90)\n",
            "Requirement already satisfied: scipy in /usr/local/lib/python3.6/dist-packages (from xgboost) (1.4.1)\n",
            "Requirement already satisfied: numpy in /usr/local/lib/python3.6/dist-packages (from xgboost) (1.17.5)\n"
          ],
          "name": "stdout"
        }
      ]
    },
    {
      "cell_type": "code",
      "metadata": {
        "id": "HkZR_dQ_fcq2",
        "colab_type": "code",
        "outputId": "047ec342-bcea-4e08-adc2-8930ce83aa64",
        "colab": {
          "base_uri": "https://localhost:8080/",
          "height": 275
        }
      },
      "source": [
        "# import necessary packages\n",
        "from sklearn.preprocessing import OneHotEncoder\n",
        "from sklearn.ensemble import RandomForestClassifier\n",
        "from sklearn.metrics import roc_auc_score\n",
        "import pandas as pd\n",
        "import numpy as np\n",
        "import matplotlib.pyplot as plt\n",
        "\n",
        "# import census data\n",
        "census = pd.read_csv('https://github.com/ArinB/MSBA-CA-03-Decision-Trees/blob/master/census_data.csv?raw=true')\n",
        "census.head()"
      ],
      "execution_count": 2,
      "outputs": [
        {
          "output_type": "execute_result",
          "data": {
            "text/html": [
              "<div>\n",
              "<style scoped>\n",
              "    .dataframe tbody tr th:only-of-type {\n",
              "        vertical-align: middle;\n",
              "    }\n",
              "\n",
              "    .dataframe tbody tr th {\n",
              "        vertical-align: top;\n",
              "    }\n",
              "\n",
              "    .dataframe thead th {\n",
              "        text-align: right;\n",
              "    }\n",
              "</style>\n",
              "<table border=\"1\" class=\"dataframe\">\n",
              "  <thead>\n",
              "    <tr style=\"text-align: right;\">\n",
              "      <th></th>\n",
              "      <th>hours_per_week_bin</th>\n",
              "      <th>occupation_bin</th>\n",
              "      <th>msr_bin</th>\n",
              "      <th>capital_gl_bin</th>\n",
              "      <th>race_sex_bin</th>\n",
              "      <th>education_num_bin</th>\n",
              "      <th>education_bin</th>\n",
              "      <th>workclass_bin</th>\n",
              "      <th>age_bin</th>\n",
              "      <th>flag</th>\n",
              "      <th>y</th>\n",
              "    </tr>\n",
              "  </thead>\n",
              "  <tbody>\n",
              "    <tr>\n",
              "      <th>0</th>\n",
              "      <td>b. 31-40</td>\n",
              "      <td>b. Mid - Low</td>\n",
              "      <td>b. Mid</td>\n",
              "      <td>c. &gt; 0</td>\n",
              "      <td>c. High</td>\n",
              "      <td>c. 13</td>\n",
              "      <td>c. Bachelors</td>\n",
              "      <td>b. income</td>\n",
              "      <td>d. 36-40 &amp; 56-60</td>\n",
              "      <td>train</td>\n",
              "      <td>0</td>\n",
              "    </tr>\n",
              "    <tr>\n",
              "      <th>1</th>\n",
              "      <td>a. 0-30</td>\n",
              "      <td>e. High</td>\n",
              "      <td>c. High</td>\n",
              "      <td>a. = 0</td>\n",
              "      <td>c. High</td>\n",
              "      <td>c. 13</td>\n",
              "      <td>c. Bachelors</td>\n",
              "      <td>b. income</td>\n",
              "      <td>e. 40-55</td>\n",
              "      <td>train</td>\n",
              "      <td>0</td>\n",
              "    </tr>\n",
              "    <tr>\n",
              "      <th>2</th>\n",
              "      <td>b. 31-40</td>\n",
              "      <td>a. Low</td>\n",
              "      <td>b. Mid</td>\n",
              "      <td>a. = 0</td>\n",
              "      <td>c. High</td>\n",
              "      <td>b. 9-12</td>\n",
              "      <td>b. Mid</td>\n",
              "      <td>b. income</td>\n",
              "      <td>d. 36-40 &amp; 56-60</td>\n",
              "      <td>train</td>\n",
              "      <td>0</td>\n",
              "    </tr>\n",
              "    <tr>\n",
              "      <th>3</th>\n",
              "      <td>b. 31-40</td>\n",
              "      <td>a. Low</td>\n",
              "      <td>c. High</td>\n",
              "      <td>a. = 0</td>\n",
              "      <td>b. Mid</td>\n",
              "      <td>a. 0-8</td>\n",
              "      <td>a. Low</td>\n",
              "      <td>b. income</td>\n",
              "      <td>e. 40-55</td>\n",
              "      <td>train</td>\n",
              "      <td>0</td>\n",
              "    </tr>\n",
              "    <tr>\n",
              "      <th>4</th>\n",
              "      <td>b. 31-40</td>\n",
              "      <td>e. High</td>\n",
              "      <td>c. High</td>\n",
              "      <td>a. = 0</td>\n",
              "      <td>a. Low</td>\n",
              "      <td>c. 13</td>\n",
              "      <td>c. Bachelors</td>\n",
              "      <td>b. income</td>\n",
              "      <td>b. 26-30 &amp; 71-100</td>\n",
              "      <td>train</td>\n",
              "      <td>0</td>\n",
              "    </tr>\n",
              "  </tbody>\n",
              "</table>\n",
              "</div>"
            ],
            "text/plain": [
              "  hours_per_week_bin occupation_bin  msr_bin  ...            age_bin   flag  y\n",
              "0           b. 31-40   b. Mid - Low   b. Mid  ...   d. 36-40 & 56-60  train  0\n",
              "1            a. 0-30        e. High  c. High  ...           e. 40-55  train  0\n",
              "2           b. 31-40         a. Low   b. Mid  ...   d. 36-40 & 56-60  train  0\n",
              "3           b. 31-40         a. Low  c. High  ...           e. 40-55  train  0\n",
              "4           b. 31-40        e. High  c. High  ...  b. 26-30 & 71-100  train  0\n",
              "\n",
              "[5 rows x 11 columns]"
            ]
          },
          "metadata": {
            "tags": []
          },
          "execution_count": 2
        }
      ]
    },
    {
      "cell_type": "markdown",
      "metadata": {
        "id": "7AuvoxJRihwS",
        "colab_type": "text"
      },
      "source": [
        "##Clean the census data"
      ]
    },
    {
      "cell_type": "code",
      "metadata": {
        "id": "fQJiWuaxfcq8",
        "colab_type": "code",
        "colab": {}
      },
      "source": [
        "# divide our dataset into train and test set\n",
        "# we want to drop education_num_bin and workclass_bin along with the flag column\n",
        "train = census[census[\"flag\"]==\"train\"].drop([\"flag\",\"education_num_bin\",\"workclass_bin\"],axis=1)\n",
        "test = census[census[\"flag\"]==\"test\"].drop([\"flag\",\"education_num_bin\",\"workclass_bin\"],axis=1)\n",
        "x_train = train.drop(\"y\",axis=1)\n",
        "y_train = train[\"y\"]\n",
        "x_test = test.drop(\"y\",axis=1)\n",
        "y_test = test[\"y\"]\n",
        "\n",
        "# create dummy variables for each of the categorical columns using OneHotEncoder\n",
        "encoder = OneHotEncoder(drop='first')\n",
        "x_train = encoder.fit_transform(x_train).toarray()\n",
        "x_test = encoder.fit_transform(x_test).toarray()"
      ],
      "execution_count": 0,
      "outputs": []
    },
    {
      "cell_type": "markdown",
      "metadata": {
        "id": "7n_CZo9wjKRP",
        "colab_type": "text"
      },
      "source": [
        "#**3. Building a Random Forest Model**"
      ]
    },
    {
      "cell_type": "code",
      "metadata": {
        "id": "DyaVl5Sifcq_",
        "colab_type": "code",
        "outputId": "bf9db603-451f-4fc2-905f-db23ae103780",
        "colab": {
          "base_uri": "https://localhost:8080/",
          "height": 281
        }
      },
      "source": [
        "# create a list to store accuracy scores\n",
        "accuracies = []\n",
        "# create a list to store all the n_estimator values we want to test\n",
        "n_estimators = [50,100,150,200,250,300,350,400,450,500]\n",
        "\n",
        "# create a for loop that instantiates a different random forest classifier\n",
        "# and calculates the accuracy for each n_estimator in the list defined above\n",
        "for n in n_estimators:\n",
        "    model = RandomForestClassifier(n_estimators=n, random_state=101) # initialize a random_state so results can be reproduced/consistent\n",
        "    model.fit(x_train, y_train)\n",
        "    y_pred = model.predict(x_test)\n",
        "    accuracy = np.mean(y_test==y_pred)\n",
        "    accuracies.append(accuracy)\n",
        "\n",
        "# visualize the accuracy for each n_estimator value\n",
        "plt.figure(figsize=(8,4))\n",
        "pd.Series(accuracies, n_estimators).plot(color='darkred',marker='o')\n",
        "plt.title('Random Forest Accuracy vs N-Estimators')\n",
        "plt.grid()\n",
        "plt.show()"
      ],
      "execution_count": 4,
      "outputs": [
        {
          "output_type": "display_data",
          "data": {
            "image/png": "[encoded data removed]",
            "text/plain": [
              "<Figure size 576x288 with 1 Axes>"
            ]
          },
          "metadata": {
            "tags": []
          }
        }
      ]
    },
    {
      "cell_type": "markdown",
      "metadata": {
        "id": "hGot3x0zaVmL",
        "colab_type": "text"
      },
      "source": [
        "#**4. Building AdaBoost, Gradient Boost (classifier) and XGB model**"
      ]
    },
    {
      "cell_type": "markdown",
      "metadata": {
        "id": "z9AbuuCGjyBz",
        "colab_type": "text"
      },
      "source": [
        "## Ada-Boost Classifier"
      ]
    },
    {
      "cell_type": "code",
      "metadata": {
        "id": "cXvodcLmfcrF",
        "colab_type": "code",
        "colab": {}
      },
      "source": [
        "# import necessary packages\n",
        "from sklearn.ensemble import AdaBoostClassifier, GradientBoostingClassifier\n",
        "from xgboost import XGBClassifier"
      ],
      "execution_count": 0,
      "outputs": []
    },
    {
      "cell_type": "code",
      "metadata": {
        "id": "nCwC_-HRRrbO",
        "colab_type": "code",
        "outputId": "bcb06aa4-0803-41a1-d5aa-35ea24f07c88",
        "colab": {
          "base_uri": "https://localhost:8080/",
          "height": 281
        }
      },
      "source": [
        "# create a list to store accuracy scores\n",
        "accuracies2 = []\n",
        "# create a for loop that instantiates a different AdaBoost classifier\n",
        "# and calculates the accuracy for each n_estimator in the list defined above\n",
        "for n in n_estimators:\n",
        "    model = AdaBoostClassifier(n_estimators=n, random_state=101)\n",
        "    model.fit(x_train, y_train)\n",
        "    y_pred = model.predict(x_test)\n",
        "    accuracy = np.mean(y_test==y_pred)\n",
        "    accuracies2.append(accuracy)\n",
        "\n",
        "# visualize the accuracy for each n_estimator value\n",
        "plt.figure(figsize=(8,4))\n",
        "pd.Series(accuracies2, n_estimators).plot(color='darkred',marker='o')\n",
        "plt.title('AdaBoost Accuracy vs N-Estimators')\n",
        "plt.grid()\n",
        "plt.show()"
      ],
      "execution_count": 6,
      "outputs": [
        {
          "output_type": "display_data",
          "data": {
            "image/png": "[encoded data removed]",
            "text/plain": [
              "<Figure size 576x288 with 1 Axes>"
            ]
          },
          "metadata": {
            "tags": []
          }
        }
      ]
    },
    {
      "cell_type": "markdown",
      "metadata": {
        "id": "fkc9X6oOj2oV",
        "colab_type": "text"
      },
      "source": [
        "## Gradient Boost Classifier"
      ]
    },
    {
      "cell_type": "code",
      "metadata": {
        "id": "Yjuk3_YwTgrv",
        "colab_type": "code",
        "outputId": "f39e6b4e-1a14-41b8-ae65-02987dc74626",
        "colab": {
          "base_uri": "https://localhost:8080/",
          "height": 281
        }
      },
      "source": [
        "# create a list to store accuracy scores\n",
        "accuracies3 = []\n",
        "# create a for loop that instantiates a different Gradient Boost classifier\n",
        "# and calculates the accuracy for each n_estimator in the list defined above\n",
        "for n in n_estimators:\n",
        "    model = GradientBoostingClassifier(n_estimators=n, random_state=101)\n",
        "    model.fit(x_train, y_train)\n",
        "    y_pred = model.predict(x_test)\n",
        "    accuracy = np.mean(y_test==y_pred)\n",
        "    accuracies3.append(accuracy)\n",
        "\n",
        "# visualize the accuracy for each n_estimator value\n",
        "plt.figure(figsize=(8,4))\n",
        "pd.Series(accuracies3, n_estimators).plot(color='darkred',marker='o')\n",
        "plt.title('Gradient Boost Accuracy vs N-Estimators')\n",
        "plt.grid()\n",
        "plt.show()"
      ],
      "execution_count": 7,
      "outputs": [
        {
          "output_type": "display_data",
          "data": {
            "image/png": "[encoded data removed]",
            "text/plain": [
              "<Figure size 576x288 with 1 Axes>"
            ]
          },
          "metadata": {
            "tags": []
          }
        }
      ]
    },
    {
      "cell_type": "markdown",
      "metadata": {
        "id": "BU7NM1XXj9Iu",
        "colab_type": "text"
      },
      "source": [
        "## XG-Boost Classifier"
      ]
    },
    {
      "cell_type": "code",
      "metadata": {
        "id": "lEONY9TFTtzv",
        "colab_type": "code",
        "outputId": "539accc0-6f44-4e86-b016-a4c84f651f26",
        "colab": {
          "base_uri": "https://localhost:8080/",
          "height": 281
        }
      },
      "source": [
        "# create a list to store accuracy scores\n",
        "accuracies4 = []\n",
        "# create a for loop that instantiates a different XGB classifier\n",
        "# and calculates the accuracy for each n_estimator in the list defined above\n",
        "for n in n_estimators:\n",
        "    model = XGBClassifier(n_estimators=n, random_state=101)\n",
        "    model.fit(x_train, y_train)\n",
        "    y_pred = model.predict(x_test)\n",
        "    accuracy = np.mean(y_test==y_pred)\n",
        "    accuracies4.append(accuracy)\n",
        "\n",
        "# visualize the accuracy for each n_estimator value\n",
        "plt.figure(figsize=(8,4))\n",
        "pd.Series(accuracies4, n_estimators).plot(color='darkred',marker='o')\n",
        "plt.title('XGBoost Accuracy vs N-Estimators')\n",
        "plt.grid()\n",
        "plt.show()"
      ],
      "execution_count": 8,
      "outputs": [
        {
          "output_type": "display_data",
          "data": {
            "image/png": "[encoded data removed]",
            "text/plain": [
              "<Figure size 576x288 with 1 Axes>"
            ]
          },
          "metadata": {
            "tags": []
          }
        }
      ]
    },
    {
      "cell_type": "code",
      "metadata": {
        "id": "UsibX-E1Vh8K",
        "colab_type": "code",
        "outputId": "9a6b0d51-5893-4f94-ee56-95a953fdc4e2",
        "colab": {
          "base_uri": "https://localhost:8080/",
          "height": 173
        }
      },
      "source": [
        "# we take the n_estimator with the best accuracy score for the random forest classifier\n",
        "# and store it in a variable\n",
        "best_n_estimator = 500\n",
        "# instantiate all models using the best n estimator\n",
        "rand_mod = RandomForestClassifier(n_estimators=best_n_estimator, random_state=101)\n",
        "adab_mod = AdaBoostClassifier(n_estimators=best_n_estimator, random_state=101)\n",
        "grad_mod = GradientBoostingClassifier(n_estimators=best_n_estimator, random_state=101)\n",
        "xgbo_mod = XGBClassifier(n_estimators=best_n_estimator, random_state=101)\n",
        "\n",
        "# fit the training set to all the models \n",
        "rand_mod.fit(x_train, y_train)\n",
        "adab_mod.fit(x_train, y_train)\n",
        "grad_mod.fit(x_train, y_train)\n",
        "xgbo_mod.fit(x_train, y_train)\n",
        "\n",
        "# predict the test set\n",
        "y_pred_rand = rand_mod.predict(x_test)\n",
        "y_pred_ada = adab_mod.predict(x_test)\n",
        "y_pred_grad = grad_mod.predict(x_test)\n",
        "y_pred_xg = xgbo_mod.predict(x_test)\n",
        "\n",
        "#calculate accuracy scores\n",
        "accuracy_rand = np.mean(y_test==y_pred_rand)\n",
        "accuracy_ada = np.mean(y_test==y_pred_ada)\n",
        "accuracy_grad = np.mean(y_test==y_pred_grad)\n",
        "accuracy_xg = np.mean(y_test==y_pred_xg)\n",
        "\n",
        "# store accuracy scores in a list\n",
        "accuracies = [accuracy_rand, accuracy_ada, accuracy_grad, accuracy_xg]\n",
        "\n",
        "#calculate AUC scores\n",
        "auc_rand = roc_auc_score(y_test, y_pred_rand)\n",
        "auc_ada = roc_auc_score(y_test, y_pred_ada)\n",
        "auc_grad = roc_auc_score(y_test, y_pred_grad)\n",
        "auc_xg = roc_auc_score(y_test, y_pred_xg)\n",
        "\n",
        "# store AUC scores in a list\n",
        "auc_scores = [auc_rand, auc_ada, auc_grad, auc_xg]\n",
        "\n",
        "# create dataframe/table\n",
        "n_estimators = [500, 500, 500, 500]\n",
        "random_states = [101, 101, 101, 101]\n",
        "\n",
        "pd.DataFrame.from_dict(data={'Accuracy': accuracies, 'AUC': auc_scores, 'n_estimators': n_estimators, 'Random State': random_states}, \n",
        "                       orient='index', columns=['Random Forest', 'AdaBoost', 'Gradient Boost', 'XGB'])"
      ],
      "execution_count": 9,
      "outputs": [
        {
          "output_type": "execute_result",
          "data": {
            "text/html": [
              "<div>\n",
              "<style scoped>\n",
              "    .dataframe tbody tr th:only-of-type {\n",
              "        vertical-align: middle;\n",
              "    }\n",
              "\n",
              "    .dataframe tbody tr th {\n",
              "        vertical-align: top;\n",
              "    }\n",
              "\n",
              "    .dataframe thead th {\n",
              "        text-align: right;\n",
              "    }\n",
              "</style>\n",
              "<table border=\"1\" class=\"dataframe\">\n",
              "  <thead>\n",
              "    <tr style=\"text-align: right;\">\n",
              "      <th></th>\n",
              "      <th>Random Forest</th>\n",
              "      <th>AdaBoost</th>\n",
              "      <th>Gradient Boost</th>\n",
              "      <th>XGB</th>\n",
              "    </tr>\n",
              "  </thead>\n",
              "  <tbody>\n",
              "    <tr>\n",
              "      <th>Accuracy</th>\n",
              "      <td>0.838216</td>\n",
              "      <td>0.845157</td>\n",
              "      <td>0.845464</td>\n",
              "      <td>0.846324</td>\n",
              "    </tr>\n",
              "    <tr>\n",
              "      <th>AUC</th>\n",
              "      <td>0.745836</td>\n",
              "      <td>0.746518</td>\n",
              "      <td>0.756956</td>\n",
              "      <td>0.758507</td>\n",
              "    </tr>\n",
              "    <tr>\n",
              "      <th>n_estimators</th>\n",
              "      <td>500.000000</td>\n",
              "      <td>500.000000</td>\n",
              "      <td>500.000000</td>\n",
              "      <td>500.000000</td>\n",
              "    </tr>\n",
              "    <tr>\n",
              "      <th>Random State</th>\n",
              "      <td>101.000000</td>\n",
              "      <td>101.000000</td>\n",
              "      <td>101.000000</td>\n",
              "      <td>101.000000</td>\n",
              "    </tr>\n",
              "  </tbody>\n",
              "</table>\n",
              "</div>"
            ],
            "text/plain": [
              "              Random Forest    AdaBoost  Gradient Boost         XGB\n",
              "Accuracy           0.838216    0.845157        0.845464    0.846324\n",
              "AUC                0.745836    0.746518        0.756956    0.758507\n",
              "n_estimators     500.000000  500.000000      500.000000  500.000000\n",
              "Random State     101.000000  101.000000      101.000000  101.000000"
            ]
          },
          "metadata": {
            "tags": []
          },
          "execution_count": 9
        }
      ]
    },
    {
      "cell_type": "code",
      "metadata": {
        "id": "dXif6ZEHy3Bi",
        "colab_type": "code",
        "colab": {}
      },
      "source": [
        ""
      ],
      "execution_count": 0,
      "outputs": []
    }
  ]
}